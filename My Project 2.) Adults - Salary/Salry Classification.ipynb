{
 "cells": [
  {
   "cell_type": "markdown",
   "metadata": {},
   "source": [
    "## Salary Classifier"
   ]
  },
  {
   "cell_type": "markdown",
   "metadata": {},
   "source": [
    "This is where you will get the output of the model\n",
    "\n",
    "Paste the data taken from testing_data of (Adults Salary Range Model) and paste it here in the input section\n",
    "\n",
    "Paste the data as 2D array inside np.array()"
   ]
  },
  {
   "cell_type": "code",
   "execution_count": 1,
   "metadata": {},
   "outputs": [],
   "source": [
    "from joblib import dump,load \n",
    "import numpy as np\n",
    "\n",
    "model = load('Salary.joblib')"
   ]
  },
  {
   "cell_type": "code",
   "execution_count": 7,
   "metadata": {},
   "outputs": [
    {
     "name": "stdout",
     "output_type": "stream",
     "text": [
      "1\n",
      "\n",
      "Annual salary is above 50,000 Dollars\n"
     ]
    }
   ],
   "source": [
    "input = np.array([[ 0.32406743,  0.52220532, -1.49761093, -0.12360387,  1.52159747,\n",
    "       -0.06392141, -0.49227492, -0.37665452, -0.35364941, -0.70255105,\n",
    "       -0.14578797, -0.21755486, -0.03494831, -0.26271197]])\n",
    "\n",
    "ans = model.predict(input)\n",
    "\n",
    "print(int(ans))\n",
    "\n",
    "print()\n",
    "\n",
    "if(ans==0):\n",
    "    print(\"Annual salary is below 50,000 Dollars\")\n",
    "elif(ans==1):\n",
    "    print(\"Annual salary is above 50,000 Dollars\")"
   ]
  },
  {
   "cell_type": "code",
   "execution_count": null,
   "metadata": {},
   "outputs": [],
   "source": []
  }
 ],
 "metadata": {
  "kernelspec": {
   "display_name": "Python 3",
   "language": "python",
   "name": "python3"
  },
  "language_info": {
   "codemirror_mode": {
    "name": "ipython",
    "version": 3
   },
   "file_extension": ".py",
   "mimetype": "text/x-python",
   "name": "python",
   "nbconvert_exporter": "python",
   "pygments_lexer": "ipython3",
   "version": "3.8.5"
  }
 },
 "nbformat": 4,
 "nbformat_minor": 4
}
