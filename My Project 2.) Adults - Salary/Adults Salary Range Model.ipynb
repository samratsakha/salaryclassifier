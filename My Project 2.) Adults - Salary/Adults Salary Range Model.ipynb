{
 "cells": [
  {
   "cell_type": "markdown",
   "metadata": {},
   "source": [
    "## Salary classifier"
   ]
  },
  {
   "cell_type": "markdown",
   "metadata": {},
   "source": [
    "This project is about classifying the salary of an individual whether he earns more than 50,000 Dollars 𝑜𝑟 𝑙𝑒𝑠𝑠 𝑡ℎ𝑎𝑛 50,000 Dollars"
   ]
  },
  {
   "cell_type": "markdown",
   "metadata": {},
   "source": [
    "There are totally 15 attributes in which 14 are features and 1 target variable in boolean format."
   ]
  },
  {
   "cell_type": "markdown",
   "metadata": {},
   "source": [
    "The algorithm used in this model is RandomForestClassifier()\n",
    "\n",
    "\n",
    "\n",
    "Since it is a Classification problem and after testing the model through various algorithms, this was choosed."
   ]
  },
  {
   "cell_type": "markdown",
   "metadata": {},
   "source": [
    "## Attribute Information"
   ]
  },
  {
   "cell_type": "markdown",
   "metadata": {},
   "source": [
    "\n",
    "1.)Age: - AGE - continuous in integer values. \n",
    "\n",
    "\n",
    "2.)Workclass: - TYPE - Private, Self-emp-not-inc, Self-emp-inc, Federal-gov, Local-gov, State-gov, Without-pay, Never-worked in integer values.\n",
    "\n",
    "\n",
    "3.)fnlwgt: - FNLWGT - continuous in integer values. \n",
    "\n",
    "\n",
    "4.)Education: - DEG -  Bachelors, Some-college, 11th, HS-grad, Prof-school, Assoc-acdm, Assoc-voc, 9th, 7th-8th, 12th, Masters, 1st-4th, 10th, Doctorate, 5th-6th, Preschool in integer values. \n",
    "\n",
    "\n",
    "5.)Education-num: - EDUNO -  continuous in integer values. \n",
    "\n",
    "\n",
    "6.)Marital-status: - MART -  Married-civ-spouse, Divorced, Never-married, Separated, Widowed, Married-spouse-absent, Married-AF-spouse in integer values. \n",
    "\n",
    "\n",
    "7.)Occupation: - OCCUP -  Tech-support, Craft-repair, Other-service, Sales, Exec-managerial, Prof-specialty, Handlers-cleaners, Machine-op-inspct, Adm-clerical, Farming-fishing, Transport-moving, Priv-house-serv, Protective-serv, Armed-Forces in integer values. \n",
    "\n",
    "\n",
    "8.)Relationship: - REL - Wife, Own-child, Husband, Not-in-family, Other-relative, Unmarried in integer values. \n",
    "\n",
    "\n",
    "9.)Race: - RACE -  White, Asian-Pac-Islander, Amer-Indian-Eskimo, Other, Black in integer values. \n",
    "\n",
    "\n",
    "10.)Sex: - SEX -  Female, Male in integer values. \n",
    "\n",
    "\n",
    "11.)Capital-gain: - CG - continuous in integer values. \n",
    "\n",
    "\n",
    "12.)Capital-loss: - CL - continuous in integer values. \n",
    "\n",
    "\n",
    "13.)Hours-per-week: - HR -  continuous in integer values. \n",
    "\n",
    "\n",
    "14.)Native-country: - NAT -  United-States, Cambodia, England, Puerto-Rico, Canada, Germany, Outlying-US(Guam-USVI-etc), India, Japan, Greece, South, China, Cuba, Iran, Honduras, Philippines, Italy, Poland, Jamaica, Vietnam, Mexico, Portugal, Ireland, France, Dominican-Republic, Laos, Ecuador, Taiwan, Haiti, Columbia, Hungary, Guatemala, Nicaragua, Scotland, Thailand, Yugoslavia, El-Salvador, Trinadad&Tobago, Peru, Hong, Holand-Netherlands in integer values.\n",
    "\n"
   ]
  },
  {
   "cell_type": "markdown",
   "metadata": {},
   "source": [
    "15.)TARGET - Whether the individual earns more than 50,000 Dollars 𝑜𝑟 𝑙𝑒𝑠𝑠 𝑡ℎ𝑎𝑛 50,000 Dollars annualy in boolean type 0 or 1. "
   ]
  },
  {
   "cell_type": "markdown",
   "metadata": {},
   "source": [
    "## Model"
   ]
  },
  {
   "cell_type": "code",
   "execution_count": 1,
   "metadata": {},
   "outputs": [],
   "source": [
    "import pandas as pd"
   ]
  },
  {
   "cell_type": "code",
   "execution_count": 2,
   "metadata": {},
   "outputs": [],
   "source": [
    "salary = pd.read_csv(\"data.csv\")"
   ]
  },
  {
   "cell_type": "code",
   "execution_count": 3,
   "metadata": {},
   "outputs": [
    {
     "data": {
      "text/html": [
       "<div>\n",
       "<style scoped>\n",
       "    .dataframe tbody tr th:only-of-type {\n",
       "        vertical-align: middle;\n",
       "    }\n",
       "\n",
       "    .dataframe tbody tr th {\n",
       "        vertical-align: top;\n",
       "    }\n",
       "\n",
       "    .dataframe thead th {\n",
       "        text-align: right;\n",
       "    }\n",
       "</style>\n",
       "<table border=\"1\" class=\"dataframe\">\n",
       "  <thead>\n",
       "    <tr style=\"text-align: right;\">\n",
       "      <th></th>\n",
       "      <th>AGE</th>\n",
       "      <th>TYPE</th>\n",
       "      <th>FNLWGT</th>\n",
       "      <th>DEG</th>\n",
       "      <th>EDUNO</th>\n",
       "      <th>MART</th>\n",
       "      <th>OCCUP</th>\n",
       "      <th>REL</th>\n",
       "      <th>RACE</th>\n",
       "      <th>SEX</th>\n",
       "      <th>CG</th>\n",
       "      <th>CL</th>\n",
       "      <th>HR</th>\n",
       "      <th>NAT</th>\n",
       "      <th>TARGET</th>\n",
       "    </tr>\n",
       "  </thead>\n",
       "  <tbody>\n",
       "    <tr>\n",
       "      <th>0</th>\n",
       "      <td>39</td>\n",
       "      <td>0</td>\n",
       "      <td>77516</td>\n",
       "      <td>0</td>\n",
       "      <td>13</td>\n",
       "      <td>0</td>\n",
       "      <td>0</td>\n",
       "      <td>0</td>\n",
       "      <td>0</td>\n",
       "      <td>0</td>\n",
       "      <td>2174</td>\n",
       "      <td>0</td>\n",
       "      <td>40</td>\n",
       "      <td>0</td>\n",
       "      <td>0</td>\n",
       "    </tr>\n",
       "    <tr>\n",
       "      <th>1</th>\n",
       "      <td>50</td>\n",
       "      <td>1</td>\n",
       "      <td>83311</td>\n",
       "      <td>0</td>\n",
       "      <td>13</td>\n",
       "      <td>1</td>\n",
       "      <td>1</td>\n",
       "      <td>1</td>\n",
       "      <td>0</td>\n",
       "      <td>0</td>\n",
       "      <td>0</td>\n",
       "      <td>0</td>\n",
       "      <td>13</td>\n",
       "      <td>0</td>\n",
       "      <td>0</td>\n",
       "    </tr>\n",
       "    <tr>\n",
       "      <th>2</th>\n",
       "      <td>38</td>\n",
       "      <td>2</td>\n",
       "      <td>215646</td>\n",
       "      <td>1</td>\n",
       "      <td>9</td>\n",
       "      <td>2</td>\n",
       "      <td>2</td>\n",
       "      <td>0</td>\n",
       "      <td>0</td>\n",
       "      <td>0</td>\n",
       "      <td>0</td>\n",
       "      <td>0</td>\n",
       "      <td>40</td>\n",
       "      <td>0</td>\n",
       "      <td>0</td>\n",
       "    </tr>\n",
       "    <tr>\n",
       "      <th>3</th>\n",
       "      <td>53</td>\n",
       "      <td>2</td>\n",
       "      <td>234721</td>\n",
       "      <td>2</td>\n",
       "      <td>7</td>\n",
       "      <td>1</td>\n",
       "      <td>2</td>\n",
       "      <td>1</td>\n",
       "      <td>1</td>\n",
       "      <td>0</td>\n",
       "      <td>0</td>\n",
       "      <td>0</td>\n",
       "      <td>40</td>\n",
       "      <td>0</td>\n",
       "      <td>0</td>\n",
       "    </tr>\n",
       "    <tr>\n",
       "      <th>4</th>\n",
       "      <td>28</td>\n",
       "      <td>2</td>\n",
       "      <td>338409</td>\n",
       "      <td>0</td>\n",
       "      <td>13</td>\n",
       "      <td>1</td>\n",
       "      <td>3</td>\n",
       "      <td>2</td>\n",
       "      <td>1</td>\n",
       "      <td>1</td>\n",
       "      <td>0</td>\n",
       "      <td>0</td>\n",
       "      <td>40</td>\n",
       "      <td>1</td>\n",
       "      <td>0</td>\n",
       "    </tr>\n",
       "  </tbody>\n",
       "</table>\n",
       "</div>"
      ],
      "text/plain": [
       "   AGE  TYPE  FNLWGT  DEG  EDUNO  MART  OCCUP  REL  RACE  SEX    CG  CL  HR  \\\n",
       "0   39     0   77516    0     13     0      0    0     0    0  2174   0  40   \n",
       "1   50     1   83311    0     13     1      1    1     0    0     0   0  13   \n",
       "2   38     2  215646    1      9     2      2    0     0    0     0   0  40   \n",
       "3   53     2  234721    2      7     1      2    1     1    0     0   0  40   \n",
       "4   28     2  338409    0     13     1      3    2     1    1     0   0  40   \n",
       "\n",
       "   NAT  TARGET  \n",
       "0    0       0  \n",
       "1    0       0  \n",
       "2    0       0  \n",
       "3    0       0  \n",
       "4    1       0  "
      ]
     },
     "execution_count": 3,
     "metadata": {},
     "output_type": "execute_result"
    }
   ],
   "source": [
    "salary.head()"
   ]
  },
  {
   "cell_type": "code",
   "execution_count": 4,
   "metadata": {},
   "outputs": [
    {
     "name": "stdout",
     "output_type": "stream",
     "text": [
      "<class 'pandas.core.frame.DataFrame'>\n",
      "RangeIndex: 32561 entries, 0 to 32560\n",
      "Data columns (total 15 columns):\n",
      " #   Column  Non-Null Count  Dtype\n",
      "---  ------  --------------  -----\n",
      " 0   AGE     32561 non-null  int64\n",
      " 1   TYPE    32561 non-null  int64\n",
      " 2   FNLWGT  32561 non-null  int64\n",
      " 3   DEG     32561 non-null  int64\n",
      " 4   EDUNO   32561 non-null  int64\n",
      " 5   MART    32561 non-null  int64\n",
      " 6   OCCUP   32561 non-null  int64\n",
      " 7   REL     32561 non-null  int64\n",
      " 8   RACE    32561 non-null  int64\n",
      " 9   SEX     32561 non-null  int64\n",
      " 10  CG      32561 non-null  int64\n",
      " 11  CL      32561 non-null  int64\n",
      " 12  HR      32561 non-null  int64\n",
      " 13  NAT     32561 non-null  int64\n",
      " 14  TARGET  32561 non-null  int64\n",
      "dtypes: int64(15)\n",
      "memory usage: 3.7 MB\n"
     ]
    }
   ],
   "source": [
    "salary.info()"
   ]
  },
  {
   "cell_type": "code",
   "execution_count": 5,
   "metadata": {},
   "outputs": [
    {
     "data": {
      "text/html": [
       "<div>\n",
       "<style scoped>\n",
       "    .dataframe tbody tr th:only-of-type {\n",
       "        vertical-align: middle;\n",
       "    }\n",
       "\n",
       "    .dataframe tbody tr th {\n",
       "        vertical-align: top;\n",
       "    }\n",
       "\n",
       "    .dataframe thead th {\n",
       "        text-align: right;\n",
       "    }\n",
       "</style>\n",
       "<table border=\"1\" class=\"dataframe\">\n",
       "  <thead>\n",
       "    <tr style=\"text-align: right;\">\n",
       "      <th></th>\n",
       "      <th>AGE</th>\n",
       "      <th>TYPE</th>\n",
       "      <th>FNLWGT</th>\n",
       "      <th>DEG</th>\n",
       "      <th>EDUNO</th>\n",
       "      <th>MART</th>\n",
       "      <th>OCCUP</th>\n",
       "      <th>REL</th>\n",
       "      <th>RACE</th>\n",
       "      <th>SEX</th>\n",
       "      <th>CG</th>\n",
       "      <th>CL</th>\n",
       "      <th>HR</th>\n",
       "      <th>NAT</th>\n",
       "      <th>TARGET</th>\n",
       "    </tr>\n",
       "  </thead>\n",
       "  <tbody>\n",
       "    <tr>\n",
       "      <th>count</th>\n",
       "      <td>32561.000000</td>\n",
       "      <td>32561.000000</td>\n",
       "      <td>3.256100e+04</td>\n",
       "      <td>32561.000000</td>\n",
       "      <td>32561.000000</td>\n",
       "      <td>32561.000000</td>\n",
       "      <td>32561.000000</td>\n",
       "      <td>32561.000000</td>\n",
       "      <td>32561.000000</td>\n",
       "      <td>32561.000000</td>\n",
       "      <td>32561.000000</td>\n",
       "      <td>32561.000000</td>\n",
       "      <td>32561.000000</td>\n",
       "      <td>32561.000000</td>\n",
       "      <td>32561.000000</td>\n",
       "    </tr>\n",
       "    <tr>\n",
       "      <th>mean</th>\n",
       "      <td>38.581647</td>\n",
       "      <td>2.331654</td>\n",
       "      <td>1.897784e+05</td>\n",
       "      <td>3.424465</td>\n",
       "      <td>10.080679</td>\n",
       "      <td>1.083781</td>\n",
       "      <td>4.703080</td>\n",
       "      <td>1.542397</td>\n",
       "      <td>0.221707</td>\n",
       "      <td>0.330795</td>\n",
       "      <td>1077.648844</td>\n",
       "      <td>87.303830</td>\n",
       "      <td>40.437456</td>\n",
       "      <td>1.857160</td>\n",
       "      <td>0.240810</td>\n",
       "    </tr>\n",
       "    <tr>\n",
       "      <th>std</th>\n",
       "      <td>13.640433</td>\n",
       "      <td>1.280230</td>\n",
       "      <td>1.055500e+05</td>\n",
       "      <td>3.453582</td>\n",
       "      <td>2.572720</td>\n",
       "      <td>1.251381</td>\n",
       "      <td>3.459139</td>\n",
       "      <td>1.437431</td>\n",
       "      <td>0.627348</td>\n",
       "      <td>0.470506</td>\n",
       "      <td>7385.292085</td>\n",
       "      <td>402.960219</td>\n",
       "      <td>12.347429</td>\n",
       "      <td>7.050586</td>\n",
       "      <td>0.427581</td>\n",
       "    </tr>\n",
       "    <tr>\n",
       "      <th>min</th>\n",
       "      <td>17.000000</td>\n",
       "      <td>0.000000</td>\n",
       "      <td>1.228500e+04</td>\n",
       "      <td>0.000000</td>\n",
       "      <td>1.000000</td>\n",
       "      <td>0.000000</td>\n",
       "      <td>0.000000</td>\n",
       "      <td>0.000000</td>\n",
       "      <td>0.000000</td>\n",
       "      <td>0.000000</td>\n",
       "      <td>0.000000</td>\n",
       "      <td>0.000000</td>\n",
       "      <td>1.000000</td>\n",
       "      <td>0.000000</td>\n",
       "      <td>0.000000</td>\n",
       "    </tr>\n",
       "    <tr>\n",
       "      <th>25%</th>\n",
       "      <td>28.000000</td>\n",
       "      <td>2.000000</td>\n",
       "      <td>1.178270e+05</td>\n",
       "      <td>1.000000</td>\n",
       "      <td>9.000000</td>\n",
       "      <td>0.000000</td>\n",
       "      <td>2.000000</td>\n",
       "      <td>0.000000</td>\n",
       "      <td>0.000000</td>\n",
       "      <td>0.000000</td>\n",
       "      <td>0.000000</td>\n",
       "      <td>0.000000</td>\n",
       "      <td>40.000000</td>\n",
       "      <td>0.000000</td>\n",
       "      <td>0.000000</td>\n",
       "    </tr>\n",
       "    <tr>\n",
       "      <th>50%</th>\n",
       "      <td>37.000000</td>\n",
       "      <td>2.000000</td>\n",
       "      <td>1.783560e+05</td>\n",
       "      <td>2.000000</td>\n",
       "      <td>10.000000</td>\n",
       "      <td>1.000000</td>\n",
       "      <td>4.000000</td>\n",
       "      <td>1.000000</td>\n",
       "      <td>0.000000</td>\n",
       "      <td>0.000000</td>\n",
       "      <td>0.000000</td>\n",
       "      <td>0.000000</td>\n",
       "      <td>40.000000</td>\n",
       "      <td>0.000000</td>\n",
       "      <td>0.000000</td>\n",
       "    </tr>\n",
       "    <tr>\n",
       "      <th>75%</th>\n",
       "      <td>48.000000</td>\n",
       "      <td>2.000000</td>\n",
       "      <td>2.370510e+05</td>\n",
       "      <td>5.000000</td>\n",
       "      <td>12.000000</td>\n",
       "      <td>1.000000</td>\n",
       "      <td>7.000000</td>\n",
       "      <td>3.000000</td>\n",
       "      <td>0.000000</td>\n",
       "      <td>1.000000</td>\n",
       "      <td>0.000000</td>\n",
       "      <td>0.000000</td>\n",
       "      <td>45.000000</td>\n",
       "      <td>0.000000</td>\n",
       "      <td>0.000000</td>\n",
       "    </tr>\n",
       "    <tr>\n",
       "      <th>max</th>\n",
       "      <td>90.000000</td>\n",
       "      <td>7.000000</td>\n",
       "      <td>1.484705e+06</td>\n",
       "      <td>15.000000</td>\n",
       "      <td>16.000000</td>\n",
       "      <td>6.000000</td>\n",
       "      <td>14.000000</td>\n",
       "      <td>5.000000</td>\n",
       "      <td>4.000000</td>\n",
       "      <td>1.000000</td>\n",
       "      <td>99999.000000</td>\n",
       "      <td>4356.000000</td>\n",
       "      <td>99.000000</td>\n",
       "      <td>41.000000</td>\n",
       "      <td>1.000000</td>\n",
       "    </tr>\n",
       "  </tbody>\n",
       "</table>\n",
       "</div>"
      ],
      "text/plain": [
       "                AGE          TYPE        FNLWGT           DEG         EDUNO  \\\n",
       "count  32561.000000  32561.000000  3.256100e+04  32561.000000  32561.000000   \n",
       "mean      38.581647      2.331654  1.897784e+05      3.424465     10.080679   \n",
       "std       13.640433      1.280230  1.055500e+05      3.453582      2.572720   \n",
       "min       17.000000      0.000000  1.228500e+04      0.000000      1.000000   \n",
       "25%       28.000000      2.000000  1.178270e+05      1.000000      9.000000   \n",
       "50%       37.000000      2.000000  1.783560e+05      2.000000     10.000000   \n",
       "75%       48.000000      2.000000  2.370510e+05      5.000000     12.000000   \n",
       "max       90.000000      7.000000  1.484705e+06     15.000000     16.000000   \n",
       "\n",
       "               MART         OCCUP           REL          RACE           SEX  \\\n",
       "count  32561.000000  32561.000000  32561.000000  32561.000000  32561.000000   \n",
       "mean       1.083781      4.703080      1.542397      0.221707      0.330795   \n",
       "std        1.251381      3.459139      1.437431      0.627348      0.470506   \n",
       "min        0.000000      0.000000      0.000000      0.000000      0.000000   \n",
       "25%        0.000000      2.000000      0.000000      0.000000      0.000000   \n",
       "50%        1.000000      4.000000      1.000000      0.000000      0.000000   \n",
       "75%        1.000000      7.000000      3.000000      0.000000      1.000000   \n",
       "max        6.000000     14.000000      5.000000      4.000000      1.000000   \n",
       "\n",
       "                 CG            CL            HR           NAT        TARGET  \n",
       "count  32561.000000  32561.000000  32561.000000  32561.000000  32561.000000  \n",
       "mean    1077.648844     87.303830     40.437456      1.857160      0.240810  \n",
       "std     7385.292085    402.960219     12.347429      7.050586      0.427581  \n",
       "min        0.000000      0.000000      1.000000      0.000000      0.000000  \n",
       "25%        0.000000      0.000000     40.000000      0.000000      0.000000  \n",
       "50%        0.000000      0.000000     40.000000      0.000000      0.000000  \n",
       "75%        0.000000      0.000000     45.000000      0.000000      0.000000  \n",
       "max    99999.000000   4356.000000     99.000000     41.000000      1.000000  "
      ]
     },
     "execution_count": 5,
     "metadata": {},
     "output_type": "execute_result"
    }
   ],
   "source": [
    "salary.describe()"
   ]
  },
  {
   "cell_type": "code",
   "execution_count": 6,
   "metadata": {},
   "outputs": [],
   "source": [
    "import matplotlib.pyplot as plt"
   ]
  },
  {
   "cell_type": "code",
   "execution_count": 7,
   "metadata": {},
   "outputs": [
    {
     "data": {
      "image/png": "[encoded data removed]",
      "text/plain": [
       "<Figure size 1440x1080 with 16 Axes>"
      ]
     },
     "metadata": {
      "needs_background": "light"
     },
     "output_type": "display_data"
    }
   ],
   "source": [
    "salary.hist(bins=50 , figsize=(20,15))\n",
    "plt.show()"
   ]
  },
  {
   "cell_type": "code",
   "execution_count": 8,
   "metadata": {},
   "outputs": [
    {
     "data": {
      "text/plain": [
       "TARGET    1.000000\n",
       "EDUNO     0.335154\n",
       "AGE       0.234037\n",
       "HR        0.229689\n",
       "CG        0.223329\n",
       "CL        0.150526\n",
       "TYPE      0.011474\n",
       "MART      0.002644\n",
       "FNLWGT   -0.009463\n",
       "NAT      -0.016687\n",
       "DEG      -0.046218\n",
       "RACE     -0.067713\n",
       "OCCUP    -0.108867\n",
       "REL      -0.171294\n",
       "SEX      -0.215980\n",
       "Name: TARGET, dtype: float64"
      ]
     },
     "execution_count": 8,
     "metadata": {},
     "output_type": "execute_result"
    }
   ],
   "source": [
    "corr_matrix = salary.corr()\n",
    "corr_matrix['TARGET'].sort_values(ascending = False)"
   ]
  },
  {
   "cell_type": "code",
   "execution_count": 9,
   "metadata": {},
   "outputs": [
    {
     "data": {
      "text/plain": [
       "<AxesSubplot:xlabel='TARGET', ylabel='EDUNO'>"
      ]
     },
     "execution_count": 9,
     "metadata": {},
     "output_type": "execute_result"
    },
    {
     "data": {
      "image/png": "[encoded data removed]",
      "text/plain": [
       "<Figure size 432x288 with 1 Axes>"
      ]
     },
     "metadata": {
      "needs_background": "light"
     },
     "output_type": "display_data"
    }
   ],
   "source": [
    "salary.plot(kind=\"scatter\",x=\"TARGET\",y=\"EDUNO\",alpha=0.8)"
   ]
  },
  {
   "cell_type": "code",
   "execution_count": 10,
   "metadata": {},
   "outputs": [
    {
     "data": {
      "text/plain": [
       "SimpleImputer(strategy='median')"
      ]
     },
     "execution_count": 10,
     "metadata": {},
     "output_type": "execute_result"
    }
   ],
   "source": [
    "from sklearn.impute import SimpleImputer\n",
    "imputer = SimpleImputer(strategy=\"median\")\n",
    "imputer.fit(salary)"
   ]
  },
  {
   "cell_type": "code",
   "execution_count": 11,
   "metadata": {},
   "outputs": [],
   "source": [
    "x = imputer.transform(salary)\n",
    "\n",
    "salary_tr = pd.DataFrame(x,columns=salary.columns)"
   ]
  },
  {
   "cell_type": "code",
   "execution_count": 12,
   "metadata": {},
   "outputs": [],
   "source": [
    "from sklearn.model_selection import StratifiedShuffleSplit\n",
    "\n",
    "split = StratifiedShuffleSplit(n_splits=1, test_size=0.2 , random_state=42)\n",
    "\n",
    "for train_index , test_index in split.split(salary_tr,salary_tr['TYPE'],salary_tr['EDUNO']):\n",
    "    strat_salary_train = salary.loc[train_index]\n",
    "    strat_salary_test = salary.loc[test_index]"
   ]
  },
  {
   "cell_type": "code",
   "execution_count": 13,
   "metadata": {},
   "outputs": [
    {
     "data": {
      "text/html": [
       "<div>\n",
       "<style scoped>\n",
       "    .dataframe tbody tr th:only-of-type {\n",
       "        vertical-align: middle;\n",
       "    }\n",
       "\n",
       "    .dataframe tbody tr th {\n",
       "        vertical-align: top;\n",
       "    }\n",
       "\n",
       "    .dataframe thead th {\n",
       "        text-align: right;\n",
       "    }\n",
       "</style>\n",
       "<table border=\"1\" class=\"dataframe\">\n",
       "  <thead>\n",
       "    <tr style=\"text-align: right;\">\n",
       "      <th></th>\n",
       "      <th>AGE</th>\n",
       "      <th>TYPE</th>\n",
       "      <th>FNLWGT</th>\n",
       "      <th>DEG</th>\n",
       "      <th>EDUNO</th>\n",
       "      <th>MART</th>\n",
       "      <th>OCCUP</th>\n",
       "      <th>REL</th>\n",
       "      <th>RACE</th>\n",
       "      <th>SEX</th>\n",
       "      <th>CG</th>\n",
       "      <th>CL</th>\n",
       "      <th>HR</th>\n",
       "      <th>NAT</th>\n",
       "      <th>TARGET</th>\n",
       "    </tr>\n",
       "  </thead>\n",
       "  <tbody>\n",
       "    <tr>\n",
       "      <th>count</th>\n",
       "      <td>26048.000000</td>\n",
       "      <td>26048.000000</td>\n",
       "      <td>2.604800e+04</td>\n",
       "      <td>26048.000000</td>\n",
       "      <td>26048.000000</td>\n",
       "      <td>26048.000000</td>\n",
       "      <td>26048.000000</td>\n",
       "      <td>26048.000000</td>\n",
       "      <td>26048.000000</td>\n",
       "      <td>26048.000000</td>\n",
       "      <td>26048.000000</td>\n",
       "      <td>26048.000000</td>\n",
       "      <td>26048.000000</td>\n",
       "      <td>26048.000000</td>\n",
       "      <td>26048.000000</td>\n",
       "    </tr>\n",
       "    <tr>\n",
       "      <th>mean</th>\n",
       "      <td>38.584690</td>\n",
       "      <td>2.331503</td>\n",
       "      <td>1.895553e+05</td>\n",
       "      <td>3.426443</td>\n",
       "      <td>10.090372</td>\n",
       "      <td>1.079853</td>\n",
       "      <td>4.705121</td>\n",
       "      <td>1.540502</td>\n",
       "      <td>0.220900</td>\n",
       "      <td>0.330467</td>\n",
       "      <td>1054.217752</td>\n",
       "      <td>87.963606</td>\n",
       "      <td>40.432164</td>\n",
       "      <td>1.849854</td>\n",
       "      <td>0.240940</td>\n",
       "    </tr>\n",
       "    <tr>\n",
       "      <th>std</th>\n",
       "      <td>13.624926</td>\n",
       "      <td>1.280166</td>\n",
       "      <td>1.051957e+05</td>\n",
       "      <td>3.450148</td>\n",
       "      <td>2.569473</td>\n",
       "      <td>1.249254</td>\n",
       "      <td>3.463825</td>\n",
       "      <td>1.435035</td>\n",
       "      <td>0.624642</td>\n",
       "      <td>0.470390</td>\n",
       "      <td>7231.309679</td>\n",
       "      <td>404.336150</td>\n",
       "      <td>12.366034</td>\n",
       "      <td>7.041513</td>\n",
       "      <td>0.427662</td>\n",
       "    </tr>\n",
       "    <tr>\n",
       "      <th>min</th>\n",
       "      <td>17.000000</td>\n",
       "      <td>0.000000</td>\n",
       "      <td>1.228500e+04</td>\n",
       "      <td>0.000000</td>\n",
       "      <td>1.000000</td>\n",
       "      <td>0.000000</td>\n",
       "      <td>0.000000</td>\n",
       "      <td>0.000000</td>\n",
       "      <td>0.000000</td>\n",
       "      <td>0.000000</td>\n",
       "      <td>0.000000</td>\n",
       "      <td>0.000000</td>\n",
       "      <td>1.000000</td>\n",
       "      <td>0.000000</td>\n",
       "      <td>0.000000</td>\n",
       "    </tr>\n",
       "    <tr>\n",
       "      <th>25%</th>\n",
       "      <td>28.000000</td>\n",
       "      <td>2.000000</td>\n",
       "      <td>1.178100e+05</td>\n",
       "      <td>1.000000</td>\n",
       "      <td>9.000000</td>\n",
       "      <td>0.000000</td>\n",
       "      <td>2.000000</td>\n",
       "      <td>0.000000</td>\n",
       "      <td>0.000000</td>\n",
       "      <td>0.000000</td>\n",
       "      <td>0.000000</td>\n",
       "      <td>0.000000</td>\n",
       "      <td>40.000000</td>\n",
       "      <td>0.000000</td>\n",
       "      <td>0.000000</td>\n",
       "    </tr>\n",
       "    <tr>\n",
       "      <th>50%</th>\n",
       "      <td>37.000000</td>\n",
       "      <td>2.000000</td>\n",
       "      <td>1.782635e+05</td>\n",
       "      <td>2.000000</td>\n",
       "      <td>10.000000</td>\n",
       "      <td>1.000000</td>\n",
       "      <td>4.000000</td>\n",
       "      <td>1.000000</td>\n",
       "      <td>0.000000</td>\n",
       "      <td>0.000000</td>\n",
       "      <td>0.000000</td>\n",
       "      <td>0.000000</td>\n",
       "      <td>40.000000</td>\n",
       "      <td>0.000000</td>\n",
       "      <td>0.000000</td>\n",
       "    </tr>\n",
       "    <tr>\n",
       "      <th>75%</th>\n",
       "      <td>48.000000</td>\n",
       "      <td>2.000000</td>\n",
       "      <td>2.367348e+05</td>\n",
       "      <td>5.000000</td>\n",
       "      <td>12.000000</td>\n",
       "      <td>1.000000</td>\n",
       "      <td>7.000000</td>\n",
       "      <td>3.000000</td>\n",
       "      <td>0.000000</td>\n",
       "      <td>1.000000</td>\n",
       "      <td>0.000000</td>\n",
       "      <td>0.000000</td>\n",
       "      <td>45.000000</td>\n",
       "      <td>0.000000</td>\n",
       "      <td>0.000000</td>\n",
       "    </tr>\n",
       "    <tr>\n",
       "      <th>max</th>\n",
       "      <td>90.000000</td>\n",
       "      <td>7.000000</td>\n",
       "      <td>1.484705e+06</td>\n",
       "      <td>15.000000</td>\n",
       "      <td>16.000000</td>\n",
       "      <td>6.000000</td>\n",
       "      <td>14.000000</td>\n",
       "      <td>5.000000</td>\n",
       "      <td>4.000000</td>\n",
       "      <td>1.000000</td>\n",
       "      <td>99999.000000</td>\n",
       "      <td>4356.000000</td>\n",
       "      <td>99.000000</td>\n",
       "      <td>41.000000</td>\n",
       "      <td>1.000000</td>\n",
       "    </tr>\n",
       "  </tbody>\n",
       "</table>\n",
       "</div>"
      ],
      "text/plain": [
       "                AGE          TYPE        FNLWGT           DEG         EDUNO  \\\n",
       "count  26048.000000  26048.000000  2.604800e+04  26048.000000  26048.000000   \n",
       "mean      38.584690      2.331503  1.895553e+05      3.426443     10.090372   \n",
       "std       13.624926      1.280166  1.051957e+05      3.450148      2.569473   \n",
       "min       17.000000      0.000000  1.228500e+04      0.000000      1.000000   \n",
       "25%       28.000000      2.000000  1.178100e+05      1.000000      9.000000   \n",
       "50%       37.000000      2.000000  1.782635e+05      2.000000     10.000000   \n",
       "75%       48.000000      2.000000  2.367348e+05      5.000000     12.000000   \n",
       "max       90.000000      7.000000  1.484705e+06     15.000000     16.000000   \n",
       "\n",
       "               MART         OCCUP           REL          RACE           SEX  \\\n",
       "count  26048.000000  26048.000000  26048.000000  26048.000000  26048.000000   \n",
       "mean       1.079853      4.705121      1.540502      0.220900      0.330467   \n",
       "std        1.249254      3.463825      1.435035      0.624642      0.470390   \n",
       "min        0.000000      0.000000      0.000000      0.000000      0.000000   \n",
       "25%        0.000000      2.000000      0.000000      0.000000      0.000000   \n",
       "50%        1.000000      4.000000      1.000000      0.000000      0.000000   \n",
       "75%        1.000000      7.000000      3.000000      0.000000      1.000000   \n",
       "max        6.000000     14.000000      5.000000      4.000000      1.000000   \n",
       "\n",
       "                 CG            CL            HR           NAT        TARGET  \n",
       "count  26048.000000  26048.000000  26048.000000  26048.000000  26048.000000  \n",
       "mean    1054.217752     87.963606     40.432164      1.849854      0.240940  \n",
       "std     7231.309679    404.336150     12.366034      7.041513      0.427662  \n",
       "min        0.000000      0.000000      1.000000      0.000000      0.000000  \n",
       "25%        0.000000      0.000000     40.000000      0.000000      0.000000  \n",
       "50%        0.000000      0.000000     40.000000      0.000000      0.000000  \n",
       "75%        0.000000      0.000000     45.000000      0.000000      0.000000  \n",
       "max    99999.000000   4356.000000     99.000000     41.000000      1.000000  "
      ]
     },
     "execution_count": 13,
     "metadata": {},
     "output_type": "execute_result"
    }
   ],
   "source": [
    "strat_salary_train.describe()"
   ]
  },
  {
   "cell_type": "code",
   "execution_count": 14,
   "metadata": {},
   "outputs": [
    {
     "data": {
      "text/html": [
       "<div>\n",
       "<style scoped>\n",
       "    .dataframe tbody tr th:only-of-type {\n",
       "        vertical-align: middle;\n",
       "    }\n",
       "\n",
       "    .dataframe tbody tr th {\n",
       "        vertical-align: top;\n",
       "    }\n",
       "\n",
       "    .dataframe thead th {\n",
       "        text-align: right;\n",
       "    }\n",
       "</style>\n",
       "<table border=\"1\" class=\"dataframe\">\n",
       "  <thead>\n",
       "    <tr style=\"text-align: right;\">\n",
       "      <th></th>\n",
       "      <th>AGE</th>\n",
       "      <th>TYPE</th>\n",
       "      <th>FNLWGT</th>\n",
       "      <th>DEG</th>\n",
       "      <th>EDUNO</th>\n",
       "      <th>MART</th>\n",
       "      <th>OCCUP</th>\n",
       "      <th>REL</th>\n",
       "      <th>RACE</th>\n",
       "      <th>SEX</th>\n",
       "      <th>CG</th>\n",
       "      <th>CL</th>\n",
       "      <th>HR</th>\n",
       "      <th>NAT</th>\n",
       "      <th>TARGET</th>\n",
       "    </tr>\n",
       "  </thead>\n",
       "  <tbody>\n",
       "    <tr>\n",
       "      <th>count</th>\n",
       "      <td>6513.000000</td>\n",
       "      <td>6513.000000</td>\n",
       "      <td>6.513000e+03</td>\n",
       "      <td>6513.000000</td>\n",
       "      <td>6513.000000</td>\n",
       "      <td>6513.000000</td>\n",
       "      <td>6513.000000</td>\n",
       "      <td>6513.000000</td>\n",
       "      <td>6513.000000</td>\n",
       "      <td>6513.000000</td>\n",
       "      <td>6513.000000</td>\n",
       "      <td>6513.000000</td>\n",
       "      <td>6513.000000</td>\n",
       "      <td>6513.000000</td>\n",
       "      <td>6513.000000</td>\n",
       "    </tr>\n",
       "    <tr>\n",
       "      <th>mean</th>\n",
       "      <td>38.569476</td>\n",
       "      <td>2.332259</td>\n",
       "      <td>1.906706e+05</td>\n",
       "      <td>3.416552</td>\n",
       "      <td>10.041916</td>\n",
       "      <td>1.099493</td>\n",
       "      <td>4.694918</td>\n",
       "      <td>1.549977</td>\n",
       "      <td>0.224935</td>\n",
       "      <td>0.332105</td>\n",
       "      <td>1171.358821</td>\n",
       "      <td>84.665131</td>\n",
       "      <td>40.458621</td>\n",
       "      <td>1.886381</td>\n",
       "      <td>0.240289</td>\n",
       "    </tr>\n",
       "    <tr>\n",
       "      <th>std</th>\n",
       "      <td>13.703315</td>\n",
       "      <td>1.280584</td>\n",
       "      <td>1.069585e+05</td>\n",
       "      <td>3.467533</td>\n",
       "      <td>2.585502</td>\n",
       "      <td>1.259822</td>\n",
       "      <td>3.440589</td>\n",
       "      <td>1.447058</td>\n",
       "      <td>0.638096</td>\n",
       "      <td>0.471005</td>\n",
       "      <td>7971.347960</td>\n",
       "      <td>397.429493</td>\n",
       "      <td>12.273658</td>\n",
       "      <td>7.087228</td>\n",
       "      <td>0.427292</td>\n",
       "    </tr>\n",
       "    <tr>\n",
       "      <th>min</th>\n",
       "      <td>17.000000</td>\n",
       "      <td>0.000000</td>\n",
       "      <td>1.376900e+04</td>\n",
       "      <td>0.000000</td>\n",
       "      <td>1.000000</td>\n",
       "      <td>0.000000</td>\n",
       "      <td>0.000000</td>\n",
       "      <td>0.000000</td>\n",
       "      <td>0.000000</td>\n",
       "      <td>0.000000</td>\n",
       "      <td>0.000000</td>\n",
       "      <td>0.000000</td>\n",
       "      <td>1.000000</td>\n",
       "      <td>0.000000</td>\n",
       "      <td>0.000000</td>\n",
       "    </tr>\n",
       "    <tr>\n",
       "      <th>25%</th>\n",
       "      <td>28.000000</td>\n",
       "      <td>2.000000</td>\n",
       "      <td>1.178810e+05</td>\n",
       "      <td>1.000000</td>\n",
       "      <td>9.000000</td>\n",
       "      <td>0.000000</td>\n",
       "      <td>2.000000</td>\n",
       "      <td>0.000000</td>\n",
       "      <td>0.000000</td>\n",
       "      <td>0.000000</td>\n",
       "      <td>0.000000</td>\n",
       "      <td>0.000000</td>\n",
       "      <td>40.000000</td>\n",
       "      <td>0.000000</td>\n",
       "      <td>0.000000</td>\n",
       "    </tr>\n",
       "    <tr>\n",
       "      <th>50%</th>\n",
       "      <td>37.000000</td>\n",
       "      <td>2.000000</td>\n",
       "      <td>1.789340e+05</td>\n",
       "      <td>2.000000</td>\n",
       "      <td>10.000000</td>\n",
       "      <td>1.000000</td>\n",
       "      <td>4.000000</td>\n",
       "      <td>1.000000</td>\n",
       "      <td>0.000000</td>\n",
       "      <td>0.000000</td>\n",
       "      <td>0.000000</td>\n",
       "      <td>0.000000</td>\n",
       "      <td>40.000000</td>\n",
       "      <td>0.000000</td>\n",
       "      <td>0.000000</td>\n",
       "    </tr>\n",
       "    <tr>\n",
       "      <th>75%</th>\n",
       "      <td>48.000000</td>\n",
       "      <td>2.000000</td>\n",
       "      <td>2.391190e+05</td>\n",
       "      <td>5.000000</td>\n",
       "      <td>12.000000</td>\n",
       "      <td>1.000000</td>\n",
       "      <td>7.000000</td>\n",
       "      <td>3.000000</td>\n",
       "      <td>0.000000</td>\n",
       "      <td>1.000000</td>\n",
       "      <td>0.000000</td>\n",
       "      <td>0.000000</td>\n",
       "      <td>45.000000</td>\n",
       "      <td>0.000000</td>\n",
       "      <td>0.000000</td>\n",
       "    </tr>\n",
       "    <tr>\n",
       "      <th>max</th>\n",
       "      <td>90.000000</td>\n",
       "      <td>7.000000</td>\n",
       "      <td>1.226583e+06</td>\n",
       "      <td>15.000000</td>\n",
       "      <td>16.000000</td>\n",
       "      <td>6.000000</td>\n",
       "      <td>14.000000</td>\n",
       "      <td>5.000000</td>\n",
       "      <td>4.000000</td>\n",
       "      <td>1.000000</td>\n",
       "      <td>99999.000000</td>\n",
       "      <td>3770.000000</td>\n",
       "      <td>99.000000</td>\n",
       "      <td>40.000000</td>\n",
       "      <td>1.000000</td>\n",
       "    </tr>\n",
       "  </tbody>\n",
       "</table>\n",
       "</div>"
      ],
      "text/plain": [
       "               AGE         TYPE        FNLWGT          DEG        EDUNO  \\\n",
       "count  6513.000000  6513.000000  6.513000e+03  6513.000000  6513.000000   \n",
       "mean     38.569476     2.332259  1.906706e+05     3.416552    10.041916   \n",
       "std      13.703315     1.280584  1.069585e+05     3.467533     2.585502   \n",
       "min      17.000000     0.000000  1.376900e+04     0.000000     1.000000   \n",
       "25%      28.000000     2.000000  1.178810e+05     1.000000     9.000000   \n",
       "50%      37.000000     2.000000  1.789340e+05     2.000000    10.000000   \n",
       "75%      48.000000     2.000000  2.391190e+05     5.000000    12.000000   \n",
       "max      90.000000     7.000000  1.226583e+06    15.000000    16.000000   \n",
       "\n",
       "              MART        OCCUP          REL         RACE          SEX  \\\n",
       "count  6513.000000  6513.000000  6513.000000  6513.000000  6513.000000   \n",
       "mean      1.099493     4.694918     1.549977     0.224935     0.332105   \n",
       "std       1.259822     3.440589     1.447058     0.638096     0.471005   \n",
       "min       0.000000     0.000000     0.000000     0.000000     0.000000   \n",
       "25%       0.000000     2.000000     0.000000     0.000000     0.000000   \n",
       "50%       1.000000     4.000000     1.000000     0.000000     0.000000   \n",
       "75%       1.000000     7.000000     3.000000     0.000000     1.000000   \n",
       "max       6.000000    14.000000     5.000000     4.000000     1.000000   \n",
       "\n",
       "                 CG           CL           HR          NAT       TARGET  \n",
       "count   6513.000000  6513.000000  6513.000000  6513.000000  6513.000000  \n",
       "mean    1171.358821    84.665131    40.458621     1.886381     0.240289  \n",
       "std     7971.347960   397.429493    12.273658     7.087228     0.427292  \n",
       "min        0.000000     0.000000     1.000000     0.000000     0.000000  \n",
       "25%        0.000000     0.000000    40.000000     0.000000     0.000000  \n",
       "50%        0.000000     0.000000    40.000000     0.000000     0.000000  \n",
       "75%        0.000000     0.000000    45.000000     0.000000     0.000000  \n",
       "max    99999.000000  3770.000000    99.000000    40.000000     1.000000  "
      ]
     },
     "execution_count": 14,
     "metadata": {},
     "output_type": "execute_result"
    }
   ],
   "source": [
    "strat_salary_test.describe()"
   ]
  },
  {
   "cell_type": "code",
   "execution_count": 15,
   "metadata": {},
   "outputs": [
    {
     "data": {
      "text/plain": [
       "0    19772\n",
       "1     6276\n",
       "Name: TARGET, dtype: int64"
      ]
     },
     "execution_count": 15,
     "metadata": {},
     "output_type": "execute_result"
    }
   ],
   "source": [
    "strat_salary_train['TARGET'].value_counts()"
   ]
  },
  {
   "cell_type": "code",
   "execution_count": 16,
   "metadata": {},
   "outputs": [
    {
     "name": "stdout",
     "output_type": "stream",
     "text": [
      "<class 'pandas.core.frame.DataFrame'>\n",
      "Int64Index: 26048 entries, 12870 to 24583\n",
      "Data columns (total 15 columns):\n",
      " #   Column  Non-Null Count  Dtype\n",
      "---  ------  --------------  -----\n",
      " 0   AGE     26048 non-null  int64\n",
      " 1   TYPE    26048 non-null  int64\n",
      " 2   FNLWGT  26048 non-null  int64\n",
      " 3   DEG     26048 non-null  int64\n",
      " 4   EDUNO   26048 non-null  int64\n",
      " 5   MART    26048 non-null  int64\n",
      " 6   OCCUP   26048 non-null  int64\n",
      " 7   REL     26048 non-null  int64\n",
      " 8   RACE    26048 non-null  int64\n",
      " 9   SEX     26048 non-null  int64\n",
      " 10  CG      26048 non-null  int64\n",
      " 11  CL      26048 non-null  int64\n",
      " 12  HR      26048 non-null  int64\n",
      " 13  NAT     26048 non-null  int64\n",
      " 14  TARGET  26048 non-null  int64\n",
      "dtypes: int64(15)\n",
      "memory usage: 3.2 MB\n"
     ]
    }
   ],
   "source": [
    "strat_salary_train.info()"
   ]
  },
  {
   "cell_type": "code",
   "execution_count": 17,
   "metadata": {},
   "outputs": [],
   "source": [
    "x_salary_train = strat_salary_train.drop('TARGET',axis=1)\n",
    "y_salary_train = strat_salary_train[\"TARGET\"]"
   ]
  },
  {
   "cell_type": "code",
   "execution_count": 18,
   "metadata": {},
   "outputs": [],
   "source": [
    "from sklearn.pipeline import Pipeline\n",
    "from sklearn.preprocessing import StandardScaler\n",
    "\n",
    "my_pipeline = Pipeline([\n",
    "    ('imputer',SimpleImputer(strategy=\"median\")),\n",
    "    ('std_scaler',StandardScaler())\n",
    "])"
   ]
  },
  {
   "cell_type": "code",
   "execution_count": 19,
   "metadata": {},
   "outputs": [],
   "source": [
    "salary_num_tr = my_pipeline.fit_transform(x_salary_train)"
   ]
  },
  {
   "cell_type": "code",
   "execution_count": 20,
   "metadata": {},
   "outputs": [
    {
     "data": {
      "text/plain": [
       "array([[-0.48329187, -0.25895842,  0.53170211, ..., -0.21755486,\n",
       "        -0.03494831,  0.3053587 ],\n",
       "       [-0.48329187, -1.82128591,  1.21767458, ..., -0.21755486,\n",
       "        -0.03494831, -0.26271197],\n",
       "       [ 1.49840824, -1.82128591, -0.80035452, ..., -0.21755486,\n",
       "        -0.03494831, -0.26271197],\n",
       "       ...,\n",
       "       [ 1.71859714, -0.25895842, -0.17654355, ..., -0.21755486,\n",
       "         0.36939279, -0.26271197],\n",
       "       [-1.14385857, -0.25895842, -1.01296226, ..., -0.21755486,\n",
       "        -0.84363052, -0.26271197],\n",
       "       [ 0.47086003, -0.25895842, -0.86307689, ..., -0.21755486,\n",
       "        -0.03494831,  1.01544705]])"
      ]
     },
     "execution_count": 20,
     "metadata": {},
     "output_type": "execute_result"
    }
   ],
   "source": [
    "salary_num_tr"
   ]
  },
  {
   "cell_type": "code",
   "execution_count": 21,
   "metadata": {},
   "outputs": [],
   "source": [
    "from sklearn.linear_model import LogisticRegression\n",
    "\n",
    "from sklearn.neighbors import KNeighborsClassifier\n",
    "\n",
    "from sklearn.ensemble import RandomForestClassifier\n",
    "\n",
    "#model = LogisticRegression()\n",
    "\n",
    "#model = KNeighborsClassifier()\n",
    "\n",
    "model = RandomForestClassifier()"
   ]
  },
  {
   "cell_type": "code",
   "execution_count": 22,
   "metadata": {},
   "outputs": [
    {
     "data": {
      "text/plain": [
       "RandomForestClassifier()"
      ]
     },
     "execution_count": 22,
     "metadata": {},
     "output_type": "execute_result"
    }
   ],
   "source": [
    "model.fit(salary_num_tr,y_salary_train)"
   ]
  },
  {
   "cell_type": "code",
   "execution_count": 23,
   "metadata": {},
   "outputs": [
    {
     "data": {
      "text/plain": [
       "array([0, 0, 0, 0, 0], dtype=int64)"
      ]
     },
     "execution_count": 23,
     "metadata": {},
     "output_type": "execute_result"
    }
   ],
   "source": [
    "some_data = x_salary_train.iloc[:5]\n",
    "some_labels = y_salary_train[:5]\n",
    "prepared_data = my_pipeline.transform(some_data)\n",
    "\n",
    "model.predict(prepared_data)"
   ]
  },
  {
   "cell_type": "code",
   "execution_count": 24,
   "metadata": {},
   "outputs": [
    {
     "data": {
      "text/plain": [
       "12870    0\n",
       "24758    0\n",
       "1343     0\n",
       "2296     0\n",
       "31269    0\n",
       "Name: TARGET, dtype: int64"
      ]
     },
     "execution_count": 24,
     "metadata": {},
     "output_type": "execute_result"
    }
   ],
   "source": [
    "some_labels"
   ]
  },
  {
   "cell_type": "code",
   "execution_count": 25,
   "metadata": {},
   "outputs": [
    {
     "data": {
      "text/plain": [
       "0.006196019963707621"
      ]
     },
     "execution_count": 25,
     "metadata": {},
     "output_type": "execute_result"
    }
   ],
   "source": [
    "from sklearn.metrics import mean_squared_error\n",
    "import numpy as np\n",
    "\n",
    "predictions = model.predict(salary_num_tr)\n",
    "labels = y_salary_train\n",
    "\n",
    "mse = mean_squared_error(predictions , labels)\n",
    "\n",
    "rmse = np.sqrt(mse)\n",
    "\n",
    "rmse"
   ]
  },
  {
   "cell_type": "code",
   "execution_count": 26,
   "metadata": {},
   "outputs": [
    {
     "data": {
      "text/plain": [
       "['Salary.joblib']"
      ]
     },
     "execution_count": 26,
     "metadata": {},
     "output_type": "execute_result"
    }
   ],
   "source": [
    "from joblib import dump,load \n",
    "\n",
    "dump(model,'Salary.joblib')"
   ]
  },
  {
   "cell_type": "markdown",
   "metadata": {},
   "source": [
    "## Testing data for classification"
   ]
  },
  {
   "cell_type": "code",
   "execution_count": 27,
   "metadata": {},
   "outputs": [],
   "source": [
    "x_test = strat_salary_test.drop(\"TARGET\",axis=1)\n",
    "y_test = strat_salary_test['TARGET'].copy()\n",
    "x_test_prepared = my_pipeline.transform(x_test)\n",
    "finalpredictions = model.predict(x_test_prepared)\n",
    "final_mse = mean_squared_error(y_test,finalpredictions)\n",
    "final_rmse = np.sqrt(final_mse) "
   ]
  },
  {
   "cell_type": "code",
   "execution_count": 28,
   "metadata": {},
   "outputs": [
    {
     "data": {
      "text/plain": [
       "0.3752270411525519"
      ]
     },
     "execution_count": 28,
     "metadata": {},
     "output_type": "execute_result"
    }
   ],
   "source": [
    "final_rmse"
   ]
  },
  {
   "cell_type": "markdown",
   "metadata": {},
   "source": [
    "Type the Row number of the testing data in the 'y' variable"
   ]
  },
  {
   "cell_type": "code",
   "execution_count": 32,
   "metadata": {},
   "outputs": [
    {
     "data": {
      "text/plain": [
       "array([ 0.32406743,  0.52220532, -1.49761093, -0.12360387,  1.52159747,\n",
       "       -0.06392141, -0.49227492, -0.37665452, -0.35364941, -0.70255105,\n",
       "       -0.14578797, -0.21755486, -0.03494831, -0.26271197])"
      ]
     },
     "execution_count": 32,
     "metadata": {},
     "output_type": "execute_result"
    }
   ],
   "source": [
    "salary_test = pd.read_csv(\"testing.csv\")\n",
    "\n",
    "x_test = salary_test.drop('0.7',axis=1)\n",
    "y_test = salary_test['0.7']\n",
    "\n",
    "\n",
    "some_data = x_test.iloc[:5000]\n",
    "some_labels = y_test[:5000]\n",
    "prepared_data = my_pipeline.transform(some_data)\n",
    "\n",
    "y = 999\n",
    "\n",
    "prepared_data[y-2]"
   ]
  },
  {
   "cell_type": "markdown",
   "metadata": {},
   "source": [
    "Copy the above data and paste it in input section of Salary Classification document"
   ]
  },
  {
   "cell_type": "code",
   "execution_count": null,
   "metadata": {},
   "outputs": [],
   "source": []
  }
 ],
 "metadata": {
  "kernelspec": {
   "display_name": "Python 3",
   "language": "python",
   "name": "python3"
  },
  "language_info": {
   "codemirror_mode": {
    "name": "ipython",
    "version": 3
   },
   "file_extension": ".py",
   "mimetype": "text/x-python",
   "name": "python",
   "nbconvert_exporter": "python",
   "pygments_lexer": "ipython3",
   "version": "3.8.5"
  }
 },
 "nbformat": 4,
 "nbformat_minor": 4
}
